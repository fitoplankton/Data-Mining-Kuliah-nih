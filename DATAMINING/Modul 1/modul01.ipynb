{
 "cells": [
  {
   "cell_type": "markdown",
   "metadata": {},
   "source": [
    "Modul 1 praktikum datamining\n",
    "\n",
    "Manipulasi array menggunakan numpy"
   ]
  },
  {
   "cell_type": "markdown",
   "metadata": {},
   "source": [
    "FRANS VITO JONATHAN SIMAMORA\n",
    "\n",
    "202410101147\n",
    "\n",
    "DATAMINING A"
   ]
  },
  {
   "cell_type": "code",
   "execution_count": 59,
   "metadata": {},
   "outputs": [],
   "source": [
    "import numpy as np"
   ]
  },
  {
   "cell_type": "code",
   "execution_count": 61,
   "metadata": {},
   "outputs": [
    {
     "data": {
      "text/plain": [
       "array([[4, 4, 5],\n",
       "       [7, 6, 4],\n",
       "       [9, 7, 4],\n",
       "       [6, 3, 7]])"
      ]
     },
     "execution_count": 61,
     "metadata": {},
     "output_type": "execute_result"
    }
   ],
   "source": [
    "arr = np.array([[4,4,5], [7,6,4], [9,7,4], [6,3,7]])\n",
    "\n",
    "arr"
   ]
  },
  {
   "cell_type": "code",
   "execution_count": 62,
   "metadata": {},
   "outputs": [
    {
     "data": {
      "text/plain": [
       "array([[[ 7,  8,  5],\n",
       "        [ 4,  7,  7],\n",
       "        [ 7,  1,  9],\n",
       "        [ 5,  4, 10]],\n",
       "\n",
       "       [[ 2,  1,  2],\n",
       "        [ 9,  8,  5],\n",
       "        [ 3,  7,  3],\n",
       "        [ 4,  9,  9]],\n",
       "\n",
       "       [[ 2,  9,  3],\n",
       "        [ 2,  4,  8],\n",
       "        [ 1,  6,  6],\n",
       "        [ 8,  1,  3]]])"
      ]
     },
     "execution_count": 62,
     "metadata": {},
     "output_type": "execute_result"
    }
   ],
   "source": [
    "arr = np.array([\n",
    "    [[7,8,5],\n",
    "    [4,7,7],\n",
    "    [7,1,9],\n",
    "    [5,4,10]],\n",
    "    \n",
    "    [[2,1,2],\n",
    "    [9,8,5],\n",
    "    [3,7,3],\n",
    "    [4,9,9],],\n",
    "\n",
    "    [[2,9,3],\n",
    "    [2,4,8],\n",
    "    [1,6,6],\n",
    "    [8,1,3]]\n",
    "])\n",
    "\n",
    "arr"
   ]
  },
  {
   "cell_type": "code",
   "execution_count": 70,
   "metadata": {},
   "outputs": [
    {
     "data": {
      "text/plain": [
       "array([[ 2, 11,  9,  5],\n",
       "       [ 8,  4,  1,  4],\n",
       "       [11,  4,  5, 10],\n",
       "       [ 1,  6,  7, 10],\n",
       "       [ 9,  5,  4,  7]])"
      ]
     },
     "execution_count": 70,
     "metadata": {},
     "output_type": "execute_result"
    }
   ],
   "source": [
    "arr = np.array([\n",
    "    [1,8,8,2],\n",
    "    [8,2,1,2],\n",
    "    [10,1,4,7],\n",
    "    [1,4,7,8],\n",
    "    [8,2,3,4]\n",
    "])\n",
    "\n",
    "arr[::2, :] +=1\n",
    "arr[:, 1::2] +=2\n",
    "\n",
    "arr"
   ]
  },
  {
   "cell_type": "code",
   "execution_count": 72,
   "metadata": {},
   "outputs": [
    {
     "data": {
      "text/plain": [
       "array([[[ 2,  9,  3],\n",
       "        [ 2,  4,  8],\n",
       "        [ 1,  6,  6],\n",
       "        [ 8,  1,  3]],\n",
       "\n",
       "       [[ 2,  1,  2],\n",
       "        [ 9,  8,  5],\n",
       "        [ 3,  7,  3],\n",
       "        [ 4,  9,  9]],\n",
       "\n",
       "       [[ 7,  8,  5],\n",
       "        [ 4,  7,  7],\n",
       "        [ 7,  1,  9],\n",
       "        [ 5,  4, 10]]])"
      ]
     },
     "execution_count": 72,
     "metadata": {},
     "output_type": "execute_result"
    }
   ],
   "source": [
    "arr = np.array([\n",
    "    [[7,8,5],\n",
    "    [4,7,7],\n",
    "    [7,1,9],\n",
    "    [5,4,10]],\n",
    "    \n",
    "    [[2,1,2],\n",
    "    [9,8,5],\n",
    "    [3,7,3],\n",
    "    [4,9,9],],\n",
    "\n",
    "    [[2,9,3],\n",
    "    [2,4,8],\n",
    "    [1,6,6],\n",
    "    [8,1,3]]\n",
    "])\n",
    "\n",
    "arr[::-1, :, :]"
   ]
  },
  {
   "cell_type": "code",
   "execution_count": 78,
   "metadata": {},
   "outputs": [
    {
     "data": {
      "text/plain": [
       "array([[ 9,  3,  1,  8],\n",
       "       [ 5,  2,  6, 10],\n",
       "       [ 9,  4,  4,  6],\n",
       "       [10,  7,  5, 10],\n",
       "       [ 4, 10,  7,  8],\n",
       "       [ 2,  5,  9, 10]])"
      ]
     },
     "execution_count": 78,
     "metadata": {},
     "output_type": "execute_result"
    }
   ],
   "source": [
    "arr = np.array([\n",
    "    [5,10,10,7],\n",
    "    [7,8,4,10],\n",
    "    [9,10,2,5],\n",
    "    [1,8,9,3],\n",
    "    [6,10,5,2],\n",
    "    [4,6,9,4]\n",
    "])\n",
    "\n",
    "array = np.array_split(arr,2,axis=1)[::-1]\n",
    "arrays = np.concatenate(array, axis=1)\n",
    "\n",
    "x = np.array_split(arrays,2,axis=0)[::-1]\n",
    "x1 = np.concatenate(x,axis=0)\n",
    "\n",
    "x1\n"
   ]
  }
 ],
 "metadata": {
  "interpreter": {
   "hash": "8d6450fa1f3c2efb5a622b02f49eb75bf331cc96ffea0114182caca91ede5f3f"
  },
  "kernelspec": {
   "display_name": "Python 3.9.7 64-bit",
   "language": "python",
   "name": "python3"
  },
  "language_info": {
   "codemirror_mode": {
    "name": "ipython",
    "version": 3
   },
   "file_extension": ".py",
   "mimetype": "text/x-python",
   "name": "python",
   "nbconvert_exporter": "python",
   "pygments_lexer": "ipython3",
   "version": "3.9.7"
  },
  "orig_nbformat": 4
 },
 "nbformat": 4,
 "nbformat_minor": 2
}
