{
 "cells": [
  {
   "cell_type": "markdown",
   "metadata": {},
   "source": [
    "Modul 1 praktikum datamining\n",
    "Manipulasi array menggunakan numpy\n"
   ]
  },
  {
   "cell_type": "markdown",
   "metadata": {},
   "source": [
    "KODE 1\n"
   ]
  },
  {
   "cell_type": "markdown",
   "metadata": {},
   "source": [
    "1   import numpy\n",
    "\n",
    "2   arr = numpy.array([1, 2, 3, 4, 5])\n",
    "\n",
    "3\tprint(arr)\n",
    "\n",
    "a.\tJelaskan fungsi dari library numpy\n",
    "\n",
    "    -> Numpy (numerical python) merupakan library yang memudahkan dalam pendefinisian array (1D, 2D, 3D atau nD) dan digunakan untuk komputasi aljabar linier.\n",
    "\n",
    "b.\tJelaskan perbedaan numpy dengan list pada python\n",
    "    \n",
    "    ->Perbedaannya adalah Array harus dideklarasikan terlebih dahulu apakah dia di bawah modul array atau package numpy, sedangkan list tidak perlu. Itulah mengapa list lebih sering digunakan jika dibandingkan array. Perbedaan lainnya adalah array lebih handal dan efisien dalam menyimpan data yang begitu compact. Selain itu, array juga lebih unggul untuk operasi numerik.\n",
    "\n",
    "c.\tJelakan tentang ndarray\n",
    "   \n",
    "    -> NumPy is used to work with arrays. The array object in NumPy is called ndarray.  We can create a NumPy ndarray object by using the array() function.\n",
    "\n",
    "d.\tJelakan fungsi baris 1\n",
    "    \n",
    "    -> Memanggil library Numpy\n",
    "\n",
    "e.\tJelakan fungsi baris 2\n",
    "\n",
    "    -> pendeklarasian ndarrray dengan nama arr\n"
   ]
  },
  {
   "cell_type": "markdown",
   "metadata": {},
   "source": [
    "f. Buatlah array 2D berikut menggunakan numpy\n",
    "\n",
    "[4\t4\t5]\n",
    "\n",
    "[7\t6\t4]\n",
    "\n",
    "[9\t7\t4]\n",
    "\n",
    "[6\t3\t7]\n"
   ]
  },
  {
   "cell_type": "code",
   "execution_count": 5,
   "metadata": {},
   "outputs": [
    {
     "name": "stdout",
     "output_type": "stream",
     "text": [
      "[[4 4 5]\n",
      " [7 6 4]\n",
      " [9 7 4]\n",
      " [6 3 7]]\n"
     ]
    }
   ],
   "source": [
    "import numpy as np\n",
    "\n",
    "arr = np.array([[4,4,5], [7,6,4], [9,7,4], [6,3,7]])\n",
    "\n",
    "print(arr)"
   ]
  },
  {
   "cell_type": "markdown",
   "metadata": {},
   "source": [
    "g. Buatlah array 3D berikut menggunakan numpy\n",
    "\n",
    "[7\t8\t5]\t    \t[2\t1\t2]\t\t    [2\t9\t3]\n",
    "\n",
    "[4\t7\t7]\t    \t[9\t8\t5]\t\t    [2\t4\t8]\n",
    "\n",
    "[7\t1\t9]\t    \t[3\t7\t3]\t\t    [1\t6\t6]\n",
    "\n",
    "[5\t4\t10]\t    \t[4\t9\t9]\t\t    [8\t1\t3]\n"
   ]
  },
  {
   "cell_type": "code",
   "execution_count": 6,
   "metadata": {},
   "outputs": [
    {
     "name": "stdout",
     "output_type": "stream",
     "text": [
      "[[[ 7  8  5]\n",
      "  [ 4  7  7]\n",
      "  [ 7  1  9]\n",
      "  [ 5  4 10]]\n",
      "\n",
      " [[ 2  1  2]\n",
      "  [ 9  8  5]\n",
      "  [ 3  7  3]\n",
      "  [ 4  9  9]]\n",
      "\n",
      " [[ 2  9  3]\n",
      "  [ 2  4  8]\n",
      "  [ 1  6  6]\n",
      "  [ 8  1  3]]]\n"
     ]
    }
   ],
   "source": [
    "import numpy as np\n",
    "\n",
    "arr = np.array([[[7,8,5], [4,7,7], [7,1,9], [5,4,10]], [[2,1,2], [9,8,5], [3,7,3], [4,9,9]], [[2,9,3], [2,4,8], [1,6,6], [8,1,3]]])\n",
    "\n",
    "print(arr)"
   ]
  },
  {
   "cell_type": "markdown",
   "metadata": {},
   "source": [
    "Kode 2"
   ]
  },
  {
   "cell_type": "markdown",
   "metadata": {},
   "source": [
    "Jalankan kode berikut\n",
    "\n",
    "1   import numpy as np\n",
    "\n",
    "2   arr = np.array([[[1, 2, 3], [4, 5, 6]], [[7, 8, 9], [10, 11, 12]]])\n",
    "\n",
    "3   print(arr[0, 1, 2])\n",
    "\n",
    "4\n",
    "\n",
    "5   import numpy as np\n",
    "\n",
    "6   arr = np.array([1, 2, 3, 4, 5, 6, 7])\n",
    "\n",
    "7   print(arr[:4])\n",
    "\n",
    "8   import numpy as np\n",
    "\n",
    "9   arr = np.array([[1, 2, 3, 4, 5], [6, 7, 8, 9, 10]])\n",
    "\n",
    "10  print(arr[0:2, 2])\n",
    "\n",
    "a. Jelaskan cara mengakses elemen array seperti kode pada baris 3\n",
    "\n",
    "    -> Pada kode baris ke-2 menunjukkan bahwa array 3D. \n",
    "    Pada kode baris ke-3 menampilkan array pada kode baris ke-2 array level pertama mengambil pada indeks ke-0,\n",
    "    Lalu mengambil level array ke-2 pada indeks ke-1 yaitu menunjukkan array [4,5,6]\n",
    "    Lalu mengambil level array ke-3 pada indeks ke-2 yaitu menunjukkan array level sebelumya dan didapatkan output 6 \n",
    "\n",
    "b. Jelaskan cara mengakses elemen array seperti kode pada baris 7\n",
    "\n",
    "    -> Pada kode baris ke-6 menunjukkan bahwa array 1D.\n",
    "    Pada kode baris ke-7 menampilkan array mulai dari indeks ke-0 hingga ke indeks ke-3 sehingga mendapatkan output [1 2 3 4]\n",
    "    dan indeks ke-4 tidak dimasukkan ke output karena itu merupakan batas atas\n",
    "\n",
    "\n",
    "c. Jelaskan cara mengakses elemen array seperti kode pada baris 10\n",
    "\n",
    "    -> Pada kode baris ke-9 menunjukkan bahwa array 2D. \n",
    "    Pada kode baris ke-10 menampilkan array pada kode baris ke-9 array level pertama mengambil pada indeks ke-0 hingga indeks ke-1 dan indeks ke-2 tidak ditampilkan karena itu hanya menjadi batas atas,\n",
    "    Lalu mengambil array level ke-2 pada indeks ke-2 dan menunjukkan output [3 8]\n"
   ]
  },
  {
   "cell_type": "markdown",
   "metadata": {},
   "source": [
    "d.\tTambahkan angka 1 pada setiap bilangan di baris ganjil array berikut. kemudian tambahkan angka 2 pada setiap bilangan di kolom genap array berikut.\n",
    "\n",
    "[1\t8\t8\t2]\n",
    "\n",
    "[8\t2\t1\t2]\n",
    "\n",
    "[10\t1\t4\t7]\n",
    "\n",
    "[1\t4\t7\t8]\n",
    "\n",
    "[8\t2\t3\t4]\n"
   ]
  },
  {
   "cell_type": "code",
   "execution_count": 36,
   "metadata": {},
   "outputs": [
    {
     "data": {
      "text/plain": [
       "array([[ 1,  8,  8,  2],\n",
       "       [10,  1,  4,  7],\n",
       "       [ 8,  2,  3,  4]])"
      ]
     },
     "execution_count": 36,
     "metadata": {},
     "output_type": "execute_result"
    }
   ],
   "source": [
    "import numpy as  np\n",
    "\n",
    "arr = np.array([[1,8,8,2], [8,2,1,2], [10,1,4,7], [1,4,7,8], [8,2,3,4]])\n",
    "\n",
    "arr[::2, :] +=1\n",
    "arr[:, 1::2] +=2\n",
    "\n",
    "arr"
   ]
  },
  {
   "cell_type": "markdown",
   "metadata": {},
   "source": [
    "e. Baliklah sumbu z array 3D berikut\n",
    "\n",
    "[7\t8\t5]\t\t[2\t1\t2]\t\t[2\t9\t3]\n",
    "\n",
    "[4\t7\t7]\t\t[9\t8\t5]\t\t[2\t4\t8]\n",
    "\n",
    "[7\t1\t9]\t\t[3\t7\t3]\t\t[1\t6\t6]\n",
    "\n",
    "[5\t4\t10]\t\t[4\t9\t9]\t\t[8\t1\t3]\n"
   ]
  },
  {
   "cell_type": "code",
   "execution_count": 26,
   "metadata": {},
   "outputs": [
    {
     "data": {
      "text/plain": [
       "array([[[ 2,  9,  3],\n",
       "        [ 2,  4,  8],\n",
       "        [ 1,  6,  6],\n",
       "        [ 8,  1,  3]],\n",
       "\n",
       "       [[ 2,  1,  2],\n",
       "        [ 9,  8,  5],\n",
       "        [ 3,  7,  3],\n",
       "        [ 4,  9,  9]],\n",
       "\n",
       "       [[ 7,  8,  5],\n",
       "        [ 4,  7,  7],\n",
       "        [ 7,  1,  9],\n",
       "        [ 5,  4, 10]]])"
      ]
     },
     "execution_count": 26,
     "metadata": {},
     "output_type": "execute_result"
    }
   ],
   "source": [
    "import numpy as np\n",
    "\n",
    "arr = np.array([[[7,8,5], [4,7,7], [7,1,9], [5,4,10]], [[2,1,2], [9,8,5], [3,7,3], [4,9,9]], [[2,9,3], [2,4,8], [1,6,6], [8,1,3]]])\n",
    "\n",
    "arr[::-1, :, :]\n"
   ]
  },
  {
   "cell_type": "markdown",
   "metadata": {},
   "source": [
    "f.\tUbahlah array pada soal e menjadi array 2D berukuran 6 x 6 (hint : gunakan perintah\t reshape)"
   ]
  },
  {
   "cell_type": "code",
   "execution_count": 4,
   "metadata": {},
   "outputs": [
    {
     "name": "stdout",
     "output_type": "stream",
     "text": [
      "[[ 7  8  5  4  7  7]\n",
      " [ 7  1  9  5  4 10]\n",
      " [ 2  1  2  9  8  5]\n",
      " [ 3  7  3  4  9  9]\n",
      " [ 2  9  3  2  4  8]\n",
      " [ 1  6  6  8  1  3]]\n"
     ]
    }
   ],
   "source": [
    "import numpy as np\n",
    "\n",
    "arr = np.array([[[7,8,5], [4,7,7], [7,1,9], [5,4,10]], [[2,1,2], [9,8,5], [3,7,3], [4,9,9]], [[2,9,3], [2,4,8], [1,6,6], [8,1,3]]])\n",
    "\n",
    "print(np.reshape(arr, (6,6)))\n"
   ]
  },
  {
   "cell_type": "markdown",
   "metadata": {},
   "source": [
    "Kode 3"
   ]
  },
  {
   "cell_type": "markdown",
   "metadata": {},
   "source": [
    "Jalankan kode berikut\n",
    "\n",
    "1   import numpy as np\n",
    "\n",
    "2   arr1 = np.array([[1, 2], [3, 4]])\n",
    "\n",
    "3   arr2 = np.array([[5, 6], [7, 8]])\n",
    "\n",
    "4   arr = np.concatenate((arr1, arr2), axis=1)\n",
    "\n",
    "5   print(arr)\n",
    "\n",
    "6   \n",
    "\n",
    "7   import numpy as np\n",
    "\n",
    "8   arr = np.array([[1, 2, 3], [4, 5, 6], [7, 8, 9], [10, 11, 12], [13, 14, 15], [16, 17, 18]])\n",
    "\n",
    "9   newarr = np.array_split(arr, 3, axis=1)\n",
    "\n",
    "10\tprint(newarr)\n",
    "\n",
    "\n",
    "a.\tJelaskan apa yang dilakukan di baris 3\n",
    "\n",
    "    -> pada baris ketiga mendeklarasikan arr2 dengan array 2 dimesi yaitu [5, 6], [7, 8]\n",
    "\n",
    "b.\tGantilah nilai axis menjadi 0. Jelaskan apa yang terjadi\n",
    "\n",
    "    ->karna akan membuat yang sebelumnya terdapat 2 array 1d, menjadi 4 array 1 d dalam 1 array 2d\n",
    "\n",
    "c.\tJelaskan apa yang dilakukan di baris 9\n",
    "\n",
    "    ->\n",
    "\n",
    "d.\tGantilah nilai axis menjadi 0. Jelaskan apa yang terjadi\n",
    "\n",
    "    ->\n"
   ]
  },
  {
   "cell_type": "code",
   "execution_count": 65,
   "metadata": {},
   "outputs": [
    {
     "data": {
      "text/plain": [
       "array([[ 9,  3,  1,  8],\n",
       "       [ 5,  2,  6, 10],\n",
       "       [ 9,  4,  4,  6],\n",
       "       [10,  7,  5, 10],\n",
       "       [ 4, 10,  7,  8],\n",
       "       [ 2,  5,  9, 10]])"
      ]
     },
     "execution_count": 65,
     "metadata": {},
     "output_type": "execute_result"
    }
   ],
   "source": [
    "import numpy as np\n",
    "arr = np.array(\n",
    "    [[5,10,10,7],\n",
    "     [7,8,4,10],\n",
    "     [9,10,2,5], \n",
    "     [1,8,9,3], \n",
    "     [6,10,5,2], \n",
    "     [4,6,9,4]])\n",
    "\n",
    "y = np.array_split(arr, 2, axis =0)[::-1]\n",
    "y1 = np.concatenate(y,axis=0)\n",
    "\n",
    "x = np.array_split(y1, 2, axis=1)[::-1]\n",
    "x1 = np.concatenate(x, axis=1)\n",
    "\n",
    "\n",
    "x1"
   ]
  }
 ],
 "metadata": {
  "interpreter": {
   "hash": "8d6450fa1f3c2efb5a622b02f49eb75bf331cc96ffea0114182caca91ede5f3f"
  },
  "kernelspec": {
   "display_name": "Python 3.9.7 64-bit",
   "language": "python",
   "name": "python3"
  },
  "language_info": {
   "codemirror_mode": {
    "name": "ipython",
    "version": 3
   },
   "file_extension": ".py",
   "mimetype": "text/x-python",
   "name": "python",
   "nbconvert_exporter": "python",
   "pygments_lexer": "ipython3",
   "version": "3.9.7"
  },
  "orig_nbformat": 4
 },
 "nbformat": 4,
 "nbformat_minor": 2
}
